{
  "cells": [
    {
      "cell_type": "code",
      "execution_count": null,
      "metadata": {
        "id": "ijGzTHJJUCPY"
      },
      "outputs": [],
      "source": [
        "# Copyright 2024 Google LLC\n",
        "#\n",
        "# Licensed under the Apache License, Version 2.0 (the \"License\");\n",
        "# you may not use this file except in compliance with the License.\n",
        "# You may obtain a copy of the License at\n",
        "#\n",
        "#     https://www.apache.org/licenses/LICENSE-2.0\n",
        "#\n",
        "# Unless required by applicable law or agreed to in writing, software\n",
        "# distributed under the License is distributed on an \"AS IS\" BASIS,\n",
        "# WITHOUT WARRANTIES OR CONDITIONS OF ANY KIND, either express or implied.\n",
        "# See the License for the specific language governing permissions and\n",
        "# limitations under the License."
      ]
    },
    {
      "cell_type": "markdown",
      "metadata": {
        "id": "VEqbX8OhE8y9"
      },
      "source": [
        "# Getting Started with the Gemini Pro Model\n",
        "\n",
        "<table align=\"left\">\n",
        "  <td style=\"text-align: center\">\n",
        "    <a href=\"https://colab.research.google.com/github/GoogleCloudPlatform/generative-ai/blob/main/gemini/getting-started/intro_gemini_pro_python.ipynb\">\n",
        "      <img src=\"https://cloud.google.com/ml-engine/images/colab-logo-32px.png\" alt=\"Google Colaboratory logo\"><br> Run in Colab\n",
        "    </a>\n",
        "  </td>\n",
        "  <td style=\"text-align: center\">\n",
        "    <a href=\"https://github.com/GoogleCloudPlatform/generative-ai/blob/main/gemini/getting-started/intro_gemini_pro_python.ipynb\">\n",
        "      <img src=\"https://cloud.google.com/ml-engine/images/github-logo-32px.png\" alt=\"GitHub logo\"><br> View on GitHub\n",
        "    </a>\n",
        "  </td>\n",
        "  <td style=\"text-align: center\">\n",
        "    <a href=\"https://console.cloud.google.com/vertex-ai/workbench/deploy-notebook?download_url=https://raw.githubusercontent.com/GoogleCloudPlatform/generative-ai/blob/main/gemini/getting-started/intro_gemini_pro_python.ipynb\">\n",
        "      <img src=\"https://lh3.googleusercontent.com/UiNooY4LUgW_oTvpsNhPpQzsstV5W8F7rYgxgGBD85cWJoLmrOzhVs_ksK_vgx40SHs7jCqkTkCk=e14-rj-sc0xffffff-h130-w32\" alt=\"Vertex AI logo\"><br> Open in Vertex AI Workbench\n",
        "    </a>\n",
        "  </td>\n",
        "</table>\n"
      ]
    },
    {
      "cell_type": "markdown",
      "metadata": {
        "id": "CkHPv2myT2cx"
      },
      "source": [
        "## Overview\n",
        "\n",
        "### Gemini\n",
        "\n",
        "Gemini is a family of generative AI models developed by Google DeepMind that is designed for multimodal use cases. The Gemini API gives you access to the Gemini Pro and Gemini Pro Vision models.\n",
        "\n",
        "### Vertex AI Gemini API\n",
        "\n",
        "The Vertex AI Gemini API provides a unified interface for interacting with Gemini models. There are currently two models available in the Gemini API:\n",
        "\n",
        "- **Gemini Pro model** (`gemini-pro`): Designed to handle natural language tasks, multiturn text and code chat, and code generation.\n",
        "- **Gemini Pro Vision model** (`gemini-pro-vision`): Supports multimodal prompts. You can include text, images, and video in your prompt requests and get text or code responses.\n",
        "\n",
        "You can interact with the Gemini API using the following methods:\n",
        "\n",
        "- Use the [Vertex AI Studio](https://cloud.google.com/generative-ai-studio) for quick testing and command generation\n",
        "- Use cURL commands\n",
        "- Use the Vertex AI SDK\n",
        "\n",
        "This notebook focuses on using the **Vertex AI SDK for Python** to call the Vertex AI Gemini API with the Gemini Pro model.\n",
        "\n",
        "For more information, see the [Generative AI on Vertex AI](https://cloud.google.com/vertex-ai/docs/generative-ai/learn/overview) documentation.\n"
      ]
    },
    {
      "cell_type": "markdown",
      "metadata": {
        "id": "DrkcqHrrwMAo"
      },
      "source": [
        "### Objectives\n",
        "\n",
        "In this tutorial, you will learn how to use the Vertex AI Gemini API with the Vertex AI SDK for Python to interact with the Gemini Pro (`gemini-pro`) model.\n",
        "\n",
        "You will complete the following tasks:\n",
        "\n",
        "- Install the Vertex AI SDK for Python\n",
        "- Use the Vertex AI Gemini API to interact with Gemini Pro (`gemini-pro`) model:\n",
        "    - Generate text from text prompts\n",
        "    - Explore various features and configuration options\n"
      ]
    },
    {
      "cell_type": "markdown",
      "metadata": {
        "id": "C9nEPojogw-g"
      },
      "source": [
        "### Costs\n",
        "\n",
        "This tutorial uses billable components of Google Cloud:\n",
        "\n",
        "- Vertex AI\n",
        "\n",
        "Learn about [Vertex AI pricing](https://cloud.google.com/vertex-ai/pricing) and use the [Pricing Calculator](https://cloud.google.com/products/calculator/) to generate a cost estimate based on your projected usage.\n"
      ]
    },
    {
      "cell_type": "markdown",
      "metadata": {
        "id": "r11Gu7qNgx1p"
      },
      "source": [
        "## Getting Started\n"
      ]
    },
    {
      "cell_type": "markdown",
      "metadata": {
        "id": "No17Cw5hgx12"
      },
      "source": [
        "### Install Vertex AI SDK for Python\n"
      ]
    },
    {
      "cell_type": "code",
      "execution_count": null,
      "metadata": {
        "id": "tFy3H3aPgx12",
        "tags": []
      },
      "outputs": [],
      "source": [
        "! pip3 install --upgrade --user google-cloud-aiplatform"
      ]
    },
    {
      "cell_type": "markdown",
      "metadata": {
        "id": "R5Xep4W9lq-Z"
      },
      "source": [
        "### Restart current runtime\n",
        "\n",
        "To use the newly installed packages in this Jupyter runtime, you must restart the runtime. You can do this by running the cell below, which will restart the current kernel."
      ]
    },
    {
      "cell_type": "code",
      "execution_count": null,
      "metadata": {
        "colab": {
          "base_uri": "https://localhost:8080/"
        },
        "id": "XRvKdaPDTznN",
        "outputId": "154a71b5-f302-4f53-ed2f-b3e5fef9195b"
      },
      "outputs": [
        {
          "data": {
            "text/plain": [
              "{'status': 'ok', 'restart': True}"
            ]
          },
          "execution_count": 2,
          "metadata": {},
          "output_type": "execute_result"
        }
      ],
      "source": [
        "# Restart kernel after installs so that your environment can access the new packages\n",
        "import IPython\n",
        "import time\n",
        "\n",
        "app = IPython.Application.instance()\n",
        "app.kernel.do_shutdown(True)"
      ]
    },
    {
      "cell_type": "markdown",
      "metadata": {
        "id": "SbmM4z7FOBpM"
      },
      "source": [
        "<div class=\"alert alert-block alert-warning\">\n",
        "<b>⚠️ The kernel is going to restart. Please wait until it is finished before continuing to the next step. ⚠️</b>\n",
        "</div>\n",
        "\n"
      ]
    },
    {
      "cell_type": "markdown",
      "metadata": {
        "id": "dmWOrTJ3gx13"
      },
      "source": [
        "### Authenticate your notebook environment (Colab only)\n",
        "\n",
        "If you are running this notebook on Google Colab, run the following cell to authenticate your environment. This step is not required if you are using [Vertex AI Workbench](https://cloud.google.com/vertex-ai-workbench).\n"
      ]
    },
    {
      "cell_type": "code",
      "execution_count": null,
      "metadata": {
        "id": "NyKGtVQjgx13",
        "tags": []
      },
      "outputs": [],
      "source": [
        "import sys\n",
        "\n",
        "# Additional authentication is required for Google Colab\n",
        "if \"google.colab\" in sys.modules:\n",
        "    # Authenticate user to Google Cloud\n",
        "    from google.colab import auth\n",
        "\n",
        "    auth.authenticate_user()"
      ]
    },
    {
      "cell_type": "markdown",
      "metadata": {
        "id": "DF4l8DTdWgPY"
      },
      "source": [
        "### Define Google Cloud project information (Colab only)\n",
        "\n",
        "If you are running this notebook on Google Colab, specify the Google Cloud project information to use. In the following cell, you specify your project information, import the Vertex AI package, and initialize the package. This step is not required if you are using [Vertex AI Workbench](https://cloud.google.com/vertex-ai-workbench).\n"
      ]
    },
    {
      "cell_type": "code",
      "execution_count": null,
      "metadata": {
        "id": "Nqwi-5ufWp_B",
        "tags": []
      },
      "outputs": [],
      "source": [
        "if \"google.colab\" in sys.modules:\n",
        "    # Define project information\n",
        "    PROJECT_ID = \"[your-project-id]\"  # @param {type:\"string\"}\n",
        "    LOCATION = \"us-central1\"  # @param {type:\"string\"}\n",
        "\n",
        "    # Initialize Vertex AI\n",
        "    import vertexai\n",
        "\n",
        "    vertexai.init(project=PROJECT_ID, location=LOCATION)"
      ]
    },
    {
      "cell_type": "markdown",
      "metadata": {
        "id": "jXHfaVS66_01"
      },
      "source": [
        "### Import libraries\n"
      ]
    },
    {
      "cell_type": "code",
      "execution_count": null,
      "metadata": {
        "id": "lslYAvw37JGQ",
        "tags": []
      },
      "outputs": [],
      "source": [
        "from vertexai.preview.generative_models import (\n",
        "    GenerationConfig,\n",
        "    GenerativeModel,\n",
        ")"
      ]
    },
    {
      "cell_type": "markdown",
      "metadata": {
        "id": "4437b7608c8e"
      },
      "source": [
        "## Use the Gemini Pro model\n",
        "\n",
        "The Gemini Pro (`gemini-pro`) model is designed to handle natural language tasks, multiturn text and code chat, and code generation.\n"
      ]
    },
    {
      "cell_type": "markdown",
      "metadata": {
        "id": "BY1nfXrqRxVX"
      },
      "source": [
        "### Load the Gemini Pro model\n"
      ]
    },
    {
      "cell_type": "code",
      "execution_count": null,
      "metadata": {
        "id": "2998506fe6d1",
        "tags": []
      },
      "outputs": [],
      "source": [
        "model = GenerativeModel(\"gemini-pro\")"
      ]
    },
    {
      "cell_type": "markdown",
      "metadata": {
        "id": "AIl7R_jBUsaC"
      },
      "source": [
        "### Generate text from text prompts\n",
        "\n",
        "Send a text prompt to the model. The Gemini Pro (`gemini-pro`) model provides a streaming response mechanism. With this approach, you don't need to wait for the complete response; you can start processing fragments as soon as they're accessible.\n"
      ]
    },
    {
      "cell_type": "code",
      "execution_count": null,
      "metadata": {
        "id": "eAo-UsfZECGF",
        "tags": [],
        "outputId": "8da0199c-d5e3-4384-ca02-966ecd41f083"
      },
      "outputs": [
        {
          "name": "stdout",
          "output_type": "stream",
          "text": [
            "The sky is blue due to a phenomenon known as Rayleigh scattering. Here's the scientific explanation:\n",
            "\n",
            "1. Sunlight Composition: Sunlight, which is a form of electromagnetic radiation emitted by the sun, is composed of a spectrum of light waves of different wavelengths and colors. These colors include red, orange, yellow, green, blue, indigo, and violet, which together form the rainbow's spectrum.\n",
            "\n",
            "2. Scattering of Light: When sunlight enters the Earth's atmosphere, it interacts with molecules and particles present in the air, including nitrogen (N2) and oxygen (O2) molecules, as well as aerosols, dust, and other particles. These particles scatter the incoming sunlight in all directions.\n",
            "\n",
            "3. Rayleigh Scattering: The amount of scattering depends on the wavelength of light and the size of the particles. Shorter wavelengths of light, such as blue and violet, are scattered more efficiently than longer wavelengths like red and orange. This phenomenon, known as Rayleigh scattering, is named after Lord Rayleigh, who studied and explained it in the late 19th century.\n",
            "\n",
            "4. Scattering Intensity: The intensity of scattering is inversely proportional to the fourth power of the wavelength of light. This means that blue light with a shorter wavelength is scattered about 16 times more than red light with a longer wavelength.\n",
            "\n",
            "5. Blue Sky Appearance: As a result of Rayleigh scattering, the shorter-wavelength blue and violet colors are scattered more strongly by the molecules and particles in the atmosphere. When we look up at the sky, we primarily see the blue light that has been scattered in all directions by these particles, making the sky appear blue during the daytime.\n",
            "\n",
            "6. Color Variations: The scattering intensity can vary depending on the time of day, atmospheric conditions, and the amount of pollutants or particles present in the air. For example, at sunrise and sunset, the sun's rays have to travel through more of the atmosphere, encountering more particles that scatter the blue light. This scattering leaves more of the longer-wavelength colors, such as red and orange, to reach our eyes, giving the sky its characteristic reddish hue during those times.\n",
            "\n",
            "In summary, the sky is blue due to Rayleigh scattering, where shorter-wavelength blue light is scattered more strongly by molecules and particles in the atmosphere, making the sky appear blue during the daytime. The intensity and appearance of the blue color can vary depending on factors like the time of day, atmospheric conditions, and the presence of pollutants or particles in the air."
          ]
        }
      ],
      "source": [
        "responses = model.generate_content(\"Why is the sky blue?\", stream=True)\n",
        "\n",
        "for response in responses:\n",
        "    print(response.text, end=\"\")"
      ]
    },
    {
      "cell_type": "markdown",
      "metadata": {
        "id": "Us8idXnVyQ97"
      },
      "source": [
        "#### Try your own prompts\n",
        "\n",
        "- What are the biggest challenges facing the healthcare industry?\n",
        "- What are the latest developments in the automotive industry?\n",
        "- What are the biggest opportunities in retail industry?\n",
        "- (Try your own prompts!)\n"
      ]
    },
    {
      "cell_type": "code",
      "execution_count": null,
      "metadata": {
        "id": "MmAZQW1GyQ97",
        "tags": [],
        "outputId": "2bc4ce7e-5233-45bd-affd-ad2c12db340d"
      },
      "outputs": [
        {
          "name": "stdout",
          "output_type": "stream",
          "text": [
            "1. Generative AI\n",
            "2. Cybersecurity automation\n",
            "3. Hybrid cloud computing\n",
            "4. Hyperautomation\n",
            "5. Digital twins\n",
            "6. Quantum computing\n",
            "7. Low-code/no-code development\n",
            "8. 5G and edge computing\n",
            "9. User interface evolution\n",
            "10. Digital transformation"
          ]
        }
      ],
      "source": [
        "prompt = \"\"\"Create a numbered list of 10 items. Each item in the list should be a trend in the tech industry.\n",
        "\n",
        "Each trend should be less than 5 words.\"\"\"  # try your own prompt\n",
        "\n",
        "responses = model.generate_content(prompt, stream=True)\n",
        "\n",
        "for response in responses:\n",
        "    print(response.text, end=\"\")"
      ]
    },
    {
      "cell_type": "markdown",
      "metadata": {
        "id": "tDK4XLdz3Oqv"
      },
      "source": [
        "#### Model parameters\n",
        "\n",
        "Every prompt you send to the model includes parameter values that control how the model generates a response. The model can generate different results for different parameter values. You can experiment with different model parameters to see how the results change.\n"
      ]
    },
    {
      "cell_type": "code",
      "execution_count": null,
      "metadata": {
        "id": "s_2ann-F3WTo",
        "tags": [],
        "outputId": "6ef5fb51-f340-4c70-ae0b-f0a4a09f3597"
      },
      "outputs": [
        {
          "name": "stdout",
          "output_type": "stream",
          "text": [
            "The sky is blue due to a phenomenon known as Rayleigh scattering. Here's the scientific explanation:\n",
            "\n",
            "1. Sunlight Composition: Sunlight, which is a form of electromagnetic radiation emitted by the sun, is composed of a spectrum of light waves of different wavelengths and colors. These colors include red, orange, yellow, green, blue, indigo, and violet, which together form the rainbow's spectrum.\n",
            "\n",
            "2. Scattering of Light: When sunlight enters the Earth's atmosphere, it interacts with molecules and particles present in the air, including nitrogen (N2) and oxygen (O2) molecules. These molecules scatter the incoming light waves in all directions through a process called scattering.\n",
            "\n",
            "3. Wavelength Dependence: The amount of scattering depends on the wavelength of the light waves. Shorter wavelengths (corresponding to colors like blue and violet) are scattered more than longer wavelengths (corresponding to colors like red and orange). This difference in scattering is due to the interaction between light waves and the size of the scattering particles.\n",
            "\n",
            "4. Blue Predominance: Nitrogen and oxygen molecules in the atmosphere have sizes comparable to the wavelengths of visible light. The scattering of blue light by these molecules is more efficient compared to the scattering of other colors. This means that blue light undergoes more scattering than other colors as it travels through the atmosphere.\n",
            "\n",
            "5. Scattering Effect: As a result of the increased scattering of blue light, more blue light reaches our eyes from all directions in the daytime sky. This scattered blue light creates the appearance of a blue sky. The blue color is more prominent when the sun is high in the sky during the daytime.\n",
            "\n",
            "6. Sun's Position and Color Variations: The position of the sun in the sky relative to the observer also affects the color of the sky. During sunrise and sunset, the sunlight has to travel through more of the atmosphere before reaching our eyes. This results in increased scattering of all colors, including blue. Hence, the sky appears red, orange, and yellow during these times.\n",
            "\n",
            "7. Other Factors: Other factors such as pollution particles, dust, water droplets, and ice crystals in the atmosphere can also influence the scattering of light and contribute to the overall appearance of the sky. These particles can scatter and absorb different wavelengths of light, leading to variations in the sky's color, brightness, and clarity.\n",
            "\n",
            "In summary, the sky's blue color is primarily caused by Rayleigh scattering, which is the scattering of shorter wavelength light waves (blue and violet) by molecules and particles in the Earth's atmosphere. This scattering effect makes more blue light reach our eyes, giving the sky its characteristic blue appearance during the day."
          ]
        }
      ],
      "source": [
        "generation_config = GenerationConfig(\n",
        "    temperature=0.9,\n",
        "    top_p=1.0,\n",
        "    top_k=32,\n",
        "    candidate_count=1,\n",
        "    max_output_tokens=8192,\n",
        ")\n",
        "\n",
        "responses = model.generate_content(\n",
        "    \"Why is the sky blue?\",\n",
        "    generation_config=generation_config,\n",
        "    stream=True,\n",
        ")\n",
        "\n",
        "for response in responses:\n",
        "    print(response.text, end=\"\")"
      ]
    },
    {
      "cell_type": "markdown",
      "metadata": {
        "id": "ga0xM9z9fAnR"
      },
      "source": [
        "### Test chat prompts\n",
        "\n",
        "The Gemini Pro model supports natural multi-turn conversations and is ideal for text tasks that require back-and-forth interactions. The following examples show how the model responds during a multi-turn conversation.\n"
      ]
    },
    {
      "cell_type": "code",
      "execution_count": null,
      "metadata": {
        "id": "SFbGVflTfBBk",
        "tags": [],
        "outputId": "b6c2e137-67df-42f5-878d-ef53454fddf7"
      },
      "outputs": [
        {
          "name": "stdout",
          "output_type": "stream",
          "text": [
            "1. Willow: This movie has a strong fantasy theme and features a young hero on a quest to save a newborn princess and a magical world. \n",
            "\n",
            "2. The Princess Bride: A classic adventure comedy with a delightful blend of action, romance, and humor.\n",
            "\n",
            "3. Stardust: A whimsical and magical adventure film based on the Neil Gaiman novel of the same name. \n",
            "\n",
            "4. The NeverEnding Story: A fantasy adventure about a young boy who reads a magical book and is transported to the world of Fantasia.\n",
            "\n",
            "5. Labyrinth: A dark fantasy film starring David Bowie as the Goblin King, featuring musical performances and a complex and twisted story."
          ]
        }
      ],
      "source": [
        "chat = model.start_chat()\n",
        "\n",
        "prompt = \"\"\"My name is Ned. You are my personal assistant. My favorite movies are Lord of the Rings and Hobbit.\n",
        "\n",
        "Suggest another movie I might like.\n",
        "\"\"\"\n",
        "\n",
        "responses = chat.send_message(prompt, stream=True)\n",
        "\n",
        "for response in responses:\n",
        "    print(response.text, end=\"\")"
      ]
    },
    {
      "cell_type": "markdown",
      "metadata": {
        "id": "ZP_z_Oh1J4nk"
      },
      "source": [
        "This follow-up prompt shows how the model responds based on the previous prompt:\n"
      ]
    },
    {
      "cell_type": "code",
      "execution_count": null,
      "metadata": {
        "id": "OCq7JNBKJrI8",
        "tags": [],
        "outputId": "f2e3ea4f-6591-4f57-eb03-1047777c8ca1"
      },
      "outputs": [
        {
          "name": "stdout",
          "output_type": "stream",
          "text": [
            "Yes, your favorite movies, Lord of the Rings and Hobbit, are both based on book series of the same names by J.R.R. Tolkien.\n",
            "\n",
            "* The Lord of the Rings movie trilogy is based on the three-volume novel of the same name, which was published between 1954 and 1955.\n",
            "* The Hobbit movie trilogy is based on the 1937 novel of the same name, which is a prequel to The Lord of the Rings.\n",
            "\n",
            "Both book series are set in Middle-earth, a fictional world created by Tolkien. They follow the adventures of hobbits, elves, dwarves, and men as they battle against the forces of evil.\n",
            "\n",
            "The Lord of the Rings is considered one of the greatest works of fantasy literature ever written, and has been translated into over 38 languages. The Hobbit is also a beloved classic, and has been adapted into several films, radio dramas, and video games."
          ]
        }
      ],
      "source": [
        "prompt = \"Are my favorite movies based on a book series?\"\n",
        "\n",
        "responses = chat.send_message(prompt, stream=True)\n",
        "\n",
        "for response in responses:\n",
        "    print(response.text, end=\"\")"
      ]
    },
    {
      "cell_type": "markdown",
      "metadata": {
        "id": "LLSpo4qQHNpI"
      },
      "source": [
        "You can also view the chat history:\n"
      ]
    },
    {
      "cell_type": "code",
      "execution_count": null,
      "metadata": {
        "tags": [],
        "id": "DAyhwvMtHNpI",
        "outputId": "9a0310a9-fe84-4db3-b984-d702c0094ca4"
      },
      "outputs": [
        {
          "name": "stdout",
          "output_type": "stream",
          "text": [
            "[role: \"user\"\n",
            "parts {\n",
            "  text: \"My name is Ned. You are my personal assistant. My favorite movies are Lord of the Rings and Hobbit.\\n\\nSuggest another movie I might like.\\n\"\n",
            "}\n",
            ", role: \"model\"\n",
            "parts {\n",
            "  text: \"1. Willow: This movie has a strong fantasy theme and features a young hero on a quest to save a newborn princess and a magical world. \\n\\n2. The Princess Bride: A classic adventure comedy with a delightful blend of action, romance, and humor.\\n\\n3. Stardust: A whimsical and magical adventure film based on the Neil Gaiman novel of the same name. \\n\\n4. The NeverEnding Story: A fantasy adventure about a young boy who reads a magical book and is transported to the world of Fantasia.\\n\\n5. Labyrinth: A dark fantasy film starring David Bowie as the Goblin King, featuring musical performances and a complex and twisted story.\"\n",
            "}\n",
            ", role: \"user\"\n",
            "parts {\n",
            "  text: \"Are my favorite movies based on a book series?\"\n",
            "}\n",
            ", role: \"model\"\n",
            "parts {\n",
            "  text: \"Yes, your favorite movies, Lord of the Rings and Hobbit, are both based on book series of the same names by J.R.R. Tolkien.\\n\\n* The Lord of the Rings movie trilogy is based on the three-volume novel of the same name, which was published between 1954 and 1955.\\n* The Hobbit movie trilogy is based on the 1937 novel of the same name, which is a prequel to The Lord of the Rings.\\n\\nBoth book series are set in Middle-earth, a fictional world created by Tolkien. They follow the adventures of hobbits, elves, dwarves, and men as they battle against the forces of evil.\\n\\nThe Lord of the Rings is considered one of the greatest works of fantasy literature ever written, and has been translated into over 38 languages. The Hobbit is also a beloved classic, and has been adapted into several films, radio dramas, and video games.\"\n",
            "}\n",
            "]\n"
          ]
        }
      ],
      "source": [
        "print(chat.history)"
      ]
    }
  ],
  "metadata": {
    "colab": {
      "provenance": [],
      "toc_visible": true
    },
    "environment": {
      "kernel": "python3",
      "name": "common-cpu.m113",
      "type": "gcloud",
      "uri": "gcr.io/deeplearning-platform-release/base-cpu:m113"
    },
    "kernelspec": {
      "display_name": "Python 3",
      "language": "python",
      "name": "python3"
    },
    "language_info": {
      "codemirror_mode": {
        "name": "ipython",
        "version": 3
      },
      "file_extension": ".py",
      "mimetype": "text/x-python",
      "name": "python",
      "nbconvert_exporter": "python",
      "pygments_lexer": "ipython3",
      "version": "3.10.13"
    }
  },
  "nbformat": 4,
  "nbformat_minor": 0
}